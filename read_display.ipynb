{
  "nbformat": 4,
  "nbformat_minor": 0,
  "metadata": {
    "colab": {
      "name": "read_display.ipynb",
      "provenance": [],
      "authorship_tag": "ABX9TyOr8tS7SrS/RqrlrH+m7Hht",
      "include_colab_link": true
    },
    "kernelspec": {
      "name": "python3",
      "display_name": "Python 3"
    },
    "language_info": {
      "name": "python"
    }
  },
  "cells": [
    {
      "cell_type": "markdown",
      "metadata": {
        "id": "view-in-github",
        "colab_type": "text"
      },
      "source": [
        "<a href=\"https://colab.research.google.com/github/hongnhung910/Image-Filters/blob/main/read_display.ipynb\" target=\"_parent\"><img src=\"https://colab.research.google.com/assets/colab-badge.svg\" alt=\"Open In Colab\"/></a>"
      ]
    },
    {
      "cell_type": "code",
      "metadata": {
        "id": "9sn7nQrAtu1A"
      },
      "source": [
        "# import the cv2 library\n",
        "import cv2\n",
        "\n",
        "# The function cv2.imread() is used to read an image.\n",
        "img_grayscale = cv2.imread('test.jpg',0)\n",
        "\n",
        "# The function cv2.imshow() is used to display an image in a window.\n",
        "cv2.imshow('graycsale image',img_grayscale)\n",
        "\n",
        "# waitKey() waits for a key press to close the window and 0 specifies indefinite loop\n",
        "cv2.waitKey(0)\n",
        "\n",
        "# cv2.destroyAllWindows() simply destroys all the windows we created.\n",
        "cv2.destroyAllWindows()\n",
        "\n",
        "# The function cv2.imwrite() is used to write an image.\n",
        "cv2.imwrite('grayscale.jpg',img_grayscale)"
      ],
      "execution_count": null,
      "outputs": []
    }
  ]
}