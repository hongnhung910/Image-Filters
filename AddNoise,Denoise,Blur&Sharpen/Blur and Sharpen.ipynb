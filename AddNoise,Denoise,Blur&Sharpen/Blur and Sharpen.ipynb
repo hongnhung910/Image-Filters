{
 "cells": [
  {
   "cell_type": "code",
   "execution_count": 1,
   "id": "37828093",
   "metadata": {},
   "outputs": [],
   "source": [
    "import matplotlib.pyplot as plt\n",
    "import cv2 as cv\n",
    "import numpy as np"
   ]
  },
  {
   "cell_type": "markdown",
   "id": "0a99853c",
   "metadata": {},
   "source": [
    "# Smoothing/Bluring Images"
   ]
  },
  {
   "cell_type": "code",
   "execution_count": 2,
   "id": "19af0c1e",
   "metadata": {},
   "outputs": [],
   "source": [
    "\n",
    "# Blurs an image using the normalized box filter\n",
    "def Averaging_filter(img):\n",
    "    Averaging_img = cv.blur(img,(9,1))\n",
    "    return Averaging_img\n",
    "\n",
    "    \n",
    "# Blurs an image using a Gaussian filter\n",
    "def Gaussian_filter(img):\n",
    "    Gaussian_img = cv.GaussianBlur(img,(5,5),20)\n",
    "    return Gaussian_img\n",
    "\n",
    "\n",
    "# Blurs an image using the median filter\n",
    "def Median_filter(img):\n",
    "    Median_img = cv.medianBlur(img,5)\n",
    "    return Median_img\n",
    "\n",
    "\n",
    "#  Blurs an image using the bilateral filter\n",
    "#Bilateral_img = cv.bilateralFilter(img,9,75,75)\n",
    "#plt.title(\" Bilateral Blurring\")\n",
    "#plt.imshow(Bilateral_img)\n",
    "#plt.show()"
   ]
  },
  {
   "cell_type": "code",
   "execution_count": 3,
   "id": "6bb0d210",
   "metadata": {},
   "outputs": [
    {
     "data": {
      "text/plain": [
       "True"
      ]
     },
     "execution_count": 3,
     "metadata": {},
     "output_type": "execute_result"
    }
   ],
   "source": [
    "img = cv.imread('../../Data/Cybertruck_color.jpg')\n",
    "#img = cv.cvtColor(img, cv.COLOR_BGR2RGB)\n",
    "Averaging_img = Averaging_filter(img)\n",
    "cv.imwrite('../../Data/Cybertruck_AveragingBlurring.png', Averaging_img)\n",
    "Gaussian_img = Gaussian_filter(img)\n",
    "cv.imwrite('../../Data/Cybertruck_GaussianBlurring.png', Gaussian_img)\n",
    "Median_img  = Median_filter(img)\n",
    "cv.imwrite('../../Data/Cybertruck_MedianBlurring.png', Median_img)"
   ]
  },
  {
   "cell_type": "markdown",
   "id": "6c920813",
   "metadata": {},
   "source": [
    "\n",
    "\n",
    "# Sharpen Images"
   ]
  },
  {
   "cell_type": "code",
   "execution_count": 4,
   "id": "ddd6c41e",
   "metadata": {},
   "outputs": [],
   "source": [
    "def Sharpen(img):\n",
    "# Create a sharpening kernel\n",
    "    sharpening_filter = np.array([[-1,-1,-1],\n",
    "                                  [-1, 9,-1],\n",
    "                                  [-1,-1,-1]]) \n",
    "    # Applying kernel(s) to the input image to get the sharpened image\n",
    "    Sharpened_img    = cv.filter2D(img,-1,sharpening_filter)\n",
    "    return Sharpened_img\n",
    "\n",
    "def Mexicanhat_Sharpen(img): \n",
    "# Create a Mexican hat kernel\n",
    "    mexican_hat_filter = np.array([[ 0, 0,-1, 0, 0],\n",
    "                                   [ 0,-1,-2,-1, 0],\n",
    "                                   [-1,-2,16,-2,-1],\n",
    "                                   [ 0,-1,-2,-1, 0],\n",
    "                                   [ 0, 0,-1, 0, 0]])\n",
    "    Mexicanhat_image = cv.filter2D(img,-1,mexican_hat_filter)\n",
    "    return Mexicanhat_image\n"
   ]
  },
  {
   "cell_type": "code",
   "execution_count": 5,
   "id": "de763ba1",
   "metadata": {},
   "outputs": [
    {
     "data": {
      "text/plain": [
       "True"
      ]
     },
     "execution_count": 5,
     "metadata": {},
     "output_type": "execute_result"
    }
   ],
   "source": [
    "img = cv.imread('../../Data/Cybertruck_GaussianBlurring.png')\n",
    "#img = cv.cvtColor(img, cv.COLOR_BGR2RGB)\n",
    "Sharpened_image    = Sharpen(img)\n",
    "Mexican_hat_image = Mexicanhat_Sharpen(img)\n",
    "cv.imwrite('../../Data/Cybertruck_Sharpen.png', Sharpened_image)\n",
    "cv.imwrite('../../Data/Cybertruck_Mexicanhat_Sharpen.png', Mexican_hat_image)"
   ]
  }
 ],
 "metadata": {
  "kernelspec": {
   "display_name": "Python 3",
   "language": "python",
   "name": "python3"
  },
  "language_info": {
   "codemirror_mode": {
    "name": "ipython",
    "version": 3
   },
   "file_extension": ".py",
   "mimetype": "text/x-python",
   "name": "python",
   "nbconvert_exporter": "python",
   "pygments_lexer": "ipython3",
   "version": "3.8.0"
  }
 },
 "nbformat": 4,
 "nbformat_minor": 5
}
