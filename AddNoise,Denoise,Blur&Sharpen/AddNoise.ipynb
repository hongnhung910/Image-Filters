{
 "cells": [
  {
   "cell_type": "code",
   "execution_count": 1,
   "id": "02cd673f",
   "metadata": {},
   "outputs": [],
   "source": [
    "import cv2 as cv\n",
    "import matplotlib.pyplot as plt\n",
    "import numpy as np\n",
    "from skimage.util import random_noise"
   ]
  },
  {
   "cell_type": "code",
   "execution_count": 2,
   "id": "cda86862",
   "metadata": {},
   "outputs": [],
   "source": [
    "def add_gaussian_noise(image, mean=0, std=1,color=0):\n",
    "    # Mean\n",
    "    # Std: Standard Deviation\n",
    "    # Color (color = 0 : Grayscale Image\n",
    "        #    color = 1 : Color Image   )\n",
    "    gaus_noise = np.random.normal(mean, std, image.size) # generate gaussian noise\n",
    "    if color == 0:\n",
    "        gaus_noise = gaus_noise.reshape(image.shape[0],image.shape[1]).astype('uint8')\n",
    "    else:\n",
    "        gaus_noise = gaus_noise.reshape(image.shape[0],image.shape[1],image.shape[2]).astype('uint8')\n",
    "    noise_img = cv.add(image,gaus_noise) # add gaussian noise to original image\n",
    "    return noise_img "
   ]
  },
  {
   "cell_type": "code",
   "execution_count": 3,
   "id": "f2b1f9d6",
   "metadata": {},
   "outputs": [],
   "source": [
    "def add_sp_noise(image,sp = 0.5,amount = 0.005 ):\n",
    "            # sp: ratio (salt noise / noise) \n",
    "            # amount : probability of the noise\n",
    "            # noise = salt noise + pepper noise\n",
    "        sp_img = np.copy(image)\n",
    "      # Add Salt\n",
    "        num_salt = np.ceil(amount * image.size * sp) # \n",
    "        coords = [np.random.randint(0, i - 1, int(num_salt))\n",
    "                for i in image.shape]\n",
    "        sp_img[coords] = 255\n",
    "        #print(coords)\n",
    "      # Add Pepper\n",
    "        num_pepper = np.ceil(amount* image.size * (1. - sp))\n",
    "        coords = [np.random.randint(0, i - 1, int(num_pepper))\n",
    "                for i in image.shape]\n",
    "        sp_img[coords] = 0\n",
    "        return sp_img"
   ]
  },
  {
   "cell_type": "code",
   "execution_count": 4,
   "id": "e0cd2e02",
   "metadata": {},
   "outputs": [],
   "source": [
    "# grayscale image\n",
    "def add_speckle_noise(image):\n",
    "        row,col = image.shape\n",
    "        gauss = np.random.randn(row,col)\n",
    "        gauss = gauss.reshape(row,col)        \n",
    "        noisy = image + image * gauss\n",
    "        return noisy"
   ]
  },
  {
   "cell_type": "code",
   "execution_count": 8,
   "id": "7f4c0028",
   "metadata": {},
   "outputs": [
    {
     "name": "stderr",
     "output_type": "stream",
     "text": [
      "<ipython-input-3-e9c852737631>:10: FutureWarning: Using a non-tuple sequence for multidimensional indexing is deprecated; use `arr[tuple(seq)]` instead of `arr[seq]`. In the future this will be interpreted as an array index, `arr[np.array(seq)]`, which will result either in an error or a different result.\n",
      "  sp_img[coords] = 255\n",
      "<ipython-input-3-e9c852737631>:16: FutureWarning: Using a non-tuple sequence for multidimensional indexing is deprecated; use `arr[tuple(seq)]` instead of `arr[seq]`. In the future this will be interpreted as an array index, `arr[np.array(seq)]`, which will result either in an error or a different result.\n",
      "  sp_img[coords] = 0\n"
     ]
    },
    {
     "data": {
      "text/plain": [
       "True"
      ]
     },
     "execution_count": 8,
     "metadata": {},
     "output_type": "execute_result"
    }
   ],
   "source": [
    "# Load Image\n",
    "img = cv.imread('../../Data/Cybertruck_color.jpg',0)\n",
    "#img = cv.cvtColor(img, cv.COLOR_BGR2RGB)\n",
    "\n",
    "# Add Noise\n",
    "gauss_img   = add_gaussian_noise(img,0,1,0)\n",
    "sp_img      = add_sp_noise(img,0.5,0.01)\n",
    "salt_img    = add_sp_noise(img,1,0.01)\n",
    "pepper_img  = add_sp_noise(img,0,0.01)\n",
    "speckle_img = add_speckle_noise(img)\n",
    "\n",
    "# Save Image\n",
    "cv.imwrite('../../Data/Cybertruck_gauss1.png', gauss_img)\n",
    "cv.imwrite('../../Data/Cybertruck_s&p.png', sp_img)\n",
    "cv.imwrite('../../Data/Cybertruck_salt.png', salt_img)\n",
    "cv.imwrite('../../Data/Cybertruck_pepper.png', pepper_img)\n",
    "cv.imwrite('../../Data/Cybertruck_speckle.png', speckle_img)"
   ]
  },
  {
   "cell_type": "code",
   "execution_count": null,
   "id": "da3d0ab9",
   "metadata": {},
   "outputs": [],
   "source": []
  }
 ],
 "metadata": {
  "kernelspec": {
   "display_name": "Python 3",
   "language": "python",
   "name": "python3"
  },
  "language_info": {
   "codemirror_mode": {
    "name": "ipython",
    "version": 3
   },
   "file_extension": ".py",
   "mimetype": "text/x-python",
   "name": "python",
   "nbconvert_exporter": "python",
   "pygments_lexer": "ipython3",
   "version": "3.8.0"
  }
 },
 "nbformat": 4,
 "nbformat_minor": 5
}
